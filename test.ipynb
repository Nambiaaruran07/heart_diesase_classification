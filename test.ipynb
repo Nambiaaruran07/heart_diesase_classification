{
 "cells": [
  {
   "cell_type": "code",
   "execution_count": 9,
   "id": "ab403972-2b1e-48af-be06-740ab5751f40",
   "metadata": {},
   "outputs": [
    {
     "name": "stdout",
     "output_type": "stream",
     "text": [
      "The Knn model predicts: Heart disease present.\n",
      "The Logistic Regression model predicts: No heart disease.\n",
      "The Random Forest model predicts: No heart disease.\n"
     ]
    },
    {
     "name": "stderr",
     "output_type": "stream",
     "text": [
      "C:\\Users\\Nambi\\AppData\\Local\\Programs\\Python\\Python39\\lib\\site-packages\\sklearn\\base.py:493: UserWarning: X does not have valid feature names, but KNeighborsClassifier was fitted with feature names\n",
      "  warnings.warn(\n",
      "C:\\Users\\Nambi\\AppData\\Local\\Programs\\Python\\Python39\\lib\\site-packages\\sklearn\\base.py:493: UserWarning: X does not have valid feature names, but LogisticRegression was fitted with feature names\n",
      "  warnings.warn(\n",
      "C:\\Users\\Nambi\\AppData\\Local\\Programs\\Python\\Python39\\lib\\site-packages\\sklearn\\base.py:493: UserWarning: X does not have valid feature names, but RandomForestClassifier was fitted with feature names\n",
      "  warnings.warn(\n"
     ]
    }
   ],
   "source": [
    "import joblib\n",
    "model_names = [\"knn\", \"logistic_regression\", \"random_forest\"]\n",
    "\n",
    "def predict_heart_disease(model_name, input_data):\n",
    "    # Load the saved model\n",
    "    loaded_model = joblib.load(f\"{model_name}.pkl\")\n",
    "    prediction = loaded_model.predict([input_data])\n",
    "    return prediction[0]  # Return the predicted class\n",
    "# new_data = [63, 1, 3, 145, 233, 1, 0, 150, 0, 2.3, 0, 0, 1]\n",
    "new_data = [66, 1, 1, 160, 246, 0, 1, 120, 1, 0, 1, 3, 1]\n",
    "\n",
    "\n",
    "for model_name in model_names:\n",
    "    predicted_class = predict_heart_disease(model_name, new_data)\n",
    "    if predicted_class == 1:\n",
    "        print(f\"The {model_name.replace('_', ' ').title()} model predicts: Heart disease present.\")\n",
    "    else:\n",
    "        print(f\"The {model_name.replace('_', ' ').title()} model predicts: No heart disease.\")"
   ]
  },
  {
   "cell_type": "code",
   "execution_count": null,
   "id": "2a0b3c3a-986e-4b0c-b33c-e859242e1546",
   "metadata": {},
   "outputs": [],
   "source": []
  }
 ],
 "metadata": {
  "kernelspec": {
   "display_name": "Python 3 (ipykernel)",
   "language": "python",
   "name": "python3"
  },
  "language_info": {
   "codemirror_mode": {
    "name": "ipython",
    "version": 3
   },
   "file_extension": ".py",
   "mimetype": "text/x-python",
   "name": "python",
   "nbconvert_exporter": "python",
   "pygments_lexer": "ipython3",
   "version": "3.9.12"
  }
 },
 "nbformat": 4,
 "nbformat_minor": 5
}
